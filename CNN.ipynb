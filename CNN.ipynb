version https://git-lfs.github.com/spec/v1
oid sha256:7f987f5496fc413ca6fc5764f59054fb10c5d10731b3918d20bdfe471cda2f72
size 34136
